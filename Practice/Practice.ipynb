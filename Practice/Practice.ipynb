{
 "cells": [
  {
   "cell_type": "code",
   "execution_count": 1,
   "metadata": {},
   "outputs": [],
   "source": [
    "from typing import Dict, List\n",
    "from datamodel import OrderDepth, TradingState, Order"
   ]
  },
  {
   "cell_type": "code",
   "execution_count": 3,
   "metadata": {},
   "outputs": [],
   "source": [
    "class Trader:\n",
    "    def run(self, state: TradingState) -> Dict[str, List[Order]]:\n",
    "        \"\"\"\n",
    "        Only method required. It takes all buy and sell orders for all symbols as an input,\n",
    "        and outputs a list of orders to be sent\n",
    "        \"\"\"\n",
    "        # Initialize the method output dict as an empty dict\n",
    "        result = {}\n",
    "\n",
    "        # Iterate over all the keys (the available products) contained in the order depths\n",
    "        for product in state.order_depths.keys():\n",
    "\n",
    "            # Check if the current product is the 'PEARLS' product, only then run the order logic\n",
    "            if product == 'PEARLS':\n",
    "\n",
    "                # Retrieve the Order Depth containing all the market BUY and SELL orders for PEARLS\n",
    "                order_depth: OrderDepth = state.order_depths[product]\n",
    "\n",
    "                # Initialize the list of Orders to be sent as an empty list\n",
    "                orders: list[Order] = []\n",
    "\n",
    "                # Define a fair value for the PEARLS.\n",
    "                # Note that this value of 1 is just a dummy value, you should likely change it!\n",
    "                acceptable_price = 5\n",
    "\n",
    "                # If statement checks if there are any SELL orders in the PEARLS market\n",
    "                if len(order_depth.sell_orders) > 0:\n",
    "\n",
    "                    # Sort all the available sell orders by their price,\n",
    "                    # and select only the sell order with the lowest price\n",
    "                    best_ask = min(order_depth.sell_orders.keys())\n",
    "                    best_ask_volume = order_depth.sell_orders[best_ask]\n",
    "\n",
    "                    # Check if the lowest ask (sell order) is lower than the above defined fair value\n",
    "                    if best_ask < acceptable_price:\n",
    "\n",
    "                        # In case the lowest ask is lower than our fair value,\n",
    "                        # This presents an opportunity for us to buy cheaply\n",
    "                        # The code below therefore sends a BUY order at the price level of the ask,\n",
    "                        # with the same quantity\n",
    "                        # We expect this order to trade with the sell order\n",
    "                        print(\"BUY\", str(-best_ask_volume) + \"x\", best_ask)\n",
    "                        orders.append(Order(product, best_ask, -best_ask_volume))\n",
    "\n",
    "                # The below code block is similar to the one above,\n",
    "                # the difference is that it finds the highest bid (buy order)\n",
    "                # If the price of the order is higher than the fair value\n",
    "                # This is an opportunity to sell at a premium\n",
    "                if len(order_depth.buy_orders) != 0:\n",
    "                    best_bid = max(order_depth.buy_orders.keys())\n",
    "                    best_bid_volume = order_depth.buy_orders[best_bid]\n",
    "                    if best_bid > acceptable_price:\n",
    "                        print(\"SELL\", str(best_bid_volume) + \"x\", best_bid)\n",
    "                        orders.append(Order(product, best_bid, -best_bid_volume))\n",
    "\n",
    "                # Add all the above orders to the result dict\n",
    "                result[product] = orders\n",
    "\n",
    "                # Return the dict of orders\n",
    "                # These possibly contain buy or sell orders for PEARLS\n",
    "                # Depending on the logic above\n",
    "        return result"
   ]
  },
  {
   "cell_type": "code",
   "execution_count": null,
   "metadata": {},
   "outputs": [],
   "source": []
  }
 ],
 "metadata": {
  "kernelspec": {
   "display_name": "Python 3.10.8 64-bit",
   "language": "python",
   "name": "python3"
  },
  "language_info": {
   "codemirror_mode": {
    "name": "ipython",
    "version": 3
   },
   "file_extension": ".py",
   "mimetype": "text/x-python",
   "name": "python",
   "nbconvert_exporter": "python",
   "pygments_lexer": "ipython3",
   "version": "3.10.8"
  },
  "orig_nbformat": 4,
  "vscode": {
   "interpreter": {
    "hash": "aee8b7b246df8f9039afb4144a1f6fd8d2ca17a180786b69acc140d282b71a49"
   }
  }
 },
 "nbformat": 4,
 "nbformat_minor": 2
}
